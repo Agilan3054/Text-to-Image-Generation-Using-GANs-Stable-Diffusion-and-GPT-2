{
  "nbformat": 4,
  "nbformat_minor": 0,
  "metadata": {
    "colab": {
      "provenance": []
    },
    "kernelspec": {
      "name": "python3",
      "display_name": "Python 3"
    },
    "language_info": {
      "name": "python"
    }
  },
  "cells": [
    {
      "cell_type": "code",
      "execution_count": 1,
      "metadata": {
        "id": "Mo4QOTJvJt4p"
      },
      "outputs": [],
      "source": [
        "import torch\n",
        "import torch.nn as nn\n",
        "import torch.optim as optim\n",
        "from torch.utils.data import DataLoader\n",
        "from torchvision import datasets, transforms\n",
        "from torch.autograd import Variable\n",
        "import matplotlib.pyplot as plt\n",
        "import numpy as np\n",
        "import os"
      ]
    },
    {
      "cell_type": "code",
      "source": [
        "from transformers import GPT2Tokenizer, GPT2Model"
      ],
      "metadata": {
        "id": "duVAZPYiLSp1"
      },
      "execution_count": 17,
      "outputs": []
    },
    {
      "cell_type": "code",
      "source": [
        "class GPT2TextEncoder(nn.Module):\n",
        "    def __init__(self):\n",
        "        super(GPT2TextEncoder, self).__init__()\n",
        "        self.tokenizer = GPT2Tokenizer.from_pretrained('gpt2')\n",
        "        self.model = GPT2Model.from_pretrained('gpt2')\n",
        "\n",
        "        # Add a padding token if it doesn't exist\n",
        "        if self.tokenizer.pad_token is None:\n",
        "            self.tokenizer.add_special_tokens({'pad_token': '[PAD]'})\n",
        "            # Resize the model embeddings to accommodate the new token\n",
        "            self.model.resize_token_embeddings(len(self.tokenizer))\n",
        "\n",
        "    def forward(self, text):\n",
        "        inputs = self.tokenizer(text, return_tensors='pt', padding=True, truncation=True)\n",
        "        outputs = self.model(**inputs)\n",
        "        return outputs.last_hidden_state.mean(dim=1)"
      ],
      "metadata": {
        "id": "dCeoWVZjK4CA"
      },
      "execution_count": 26,
      "outputs": []
    },
    {
      "cell_type": "code",
      "source": [
        "class Generator(nn.Module):\n",
        "    def __init__(self, latent_dim, text_embedding_dim, image_size):\n",
        "        super(Generator, self).__init__()\n",
        "        self.fc = nn.Linear(latent_dim + text_embedding_dim, 128 * (image_size // 4) * (image_size // 4))\n",
        "        self.conv1 = nn.ConvTranspose2d(128, 64, 4, 2, 1)\n",
        "        self.conv2 = nn.ConvTranspose2d(64, 3, 4, 2, 1)\n",
        "        self.relu = nn.ReLU()\n",
        "        self.tanh = nn.Tanh()\n",
        "\n",
        "    def forward(self, noise, text_embeddings):\n",
        "        concat_input = torch.cat((noise, text_embeddings), -1)\n",
        "        x = self.fc(concat_input)\n",
        "        x = self.relu(x)\n",
        "        x = x.view(-1, 128, (image_size // 4), (image_size // 4))\n",
        "        x = self.conv1(x)\n",
        "        x = self.relu(x)\n",
        "        x = self.conv2(x)\n",
        "        x = self.tanh(x)\n",
        "        return x\n",
        "\n",
        "# Step 3: Define the Discriminator Model (GAN)\n",
        "class Discriminator(nn.Module):\n",
        "    def __init__(self, image_size, text_embedding_dim):\n",
        "        super(Discriminator, self).__init__()\n",
        "        self.conv1 = nn.Conv2d(3, 64, 4, 2, 1)\n",
        "        self.conv2 = nn.Conv2d(64, 128, 4, 2, 1)\n",
        "        self.fc = nn.Linear(128 * (image_size // 4) * (image_size // 4) + text_embedding_dim, 1)\n",
        "        self.leaky_relu = nn.LeakyReLU(0.2)\n",
        "        self.sigmoid = nn.Sigmoid()\n",
        "\n",
        "    def forward(self, images, text_embeddings):\n",
        "        x = self.conv1(images)\n",
        "        x = self.leaky_relu(x)\n",
        "        x = self.conv2(x)\n",
        "        x = self.leaky_relu(x)\n",
        "        x = x.view(-1, 128 * (image_size // 4) * (image_size // 4))\n",
        "        concat_input = torch.cat((x, text_embeddings), -1)\n",
        "        x = self.fc(concat_input)\n",
        "        x = self.sigmoid(x)\n",
        "        return x\n"
      ],
      "metadata": {
        "id": "QNvUVkrMJxaB"
      },
      "execution_count": 27,
      "outputs": []
    },
    {
      "cell_type": "code",
      "source": [
        "latent_dim = 100\n",
        "text_embedding_dim = 768  # GPT-2 embedding size\n",
        "image_size = 64\n",
        "batch_size = 32\n",
        "num_epochs = 1\n",
        "learning_rate = 0.0002"
      ],
      "metadata": {
        "id": "UZN_i33WJ5Vt"
      },
      "execution_count": 49,
      "outputs": []
    },
    {
      "cell_type": "code",
      "source": [
        "text_encoder = GPT2TextEncoder()\n",
        "generator = Generator(latent_dim, text_embedding_dim, image_size)\n",
        "discriminator = Discriminator(image_size, text_embedding_dim)"
      ],
      "metadata": {
        "colab": {
          "base_uri": "https://localhost:8080/"
        },
        "id": "9l-icw17J--4",
        "outputId": "3e763b8d-f60e-458d-9eb8-b895545a36b6"
      },
      "execution_count": 50,
      "outputs": [
        {
          "output_type": "stream",
          "name": "stderr",
          "text": [
            "/usr/local/lib/python3.10/dist-packages/transformers/tokenization_utils_base.py:1601: FutureWarning: `clean_up_tokenization_spaces` was not set. It will be set to `True` by default. This behavior will be depracted in transformers v4.45, and will be then set to `False` by default. For more details check this issue: https://github.com/huggingface/transformers/issues/31884\n",
            "  warnings.warn(\n"
          ]
        }
      ]
    },
    {
      "cell_type": "code",
      "source": [
        "criterion = nn.BCELoss()\n",
        "optimizer_G = optim.Adam(generator.parameters(), lr=learning_rate, betas=(0.5, 0.999))\n",
        "optimizer_D = optim.Adam(discriminator.parameters(), lr=learning_rate, betas=(0.5, 0.999))"
      ],
      "metadata": {
        "id": "uPCpWoncKBoz"
      },
      "execution_count": 51,
      "outputs": []
    },
    {
      "cell_type": "code",
      "source": [
        "transform = transforms.Compose([\n",
        "    transforms.Resize(image_size),\n",
        "    transforms.ToTensor(),\n",
        "    transforms.Normalize((0.5, 0.5, 0.5), (0.5, 0.5, 0.5)),\n",
        "])\n",
        "\n",
        "# For simplicity, using CIFAR-10 dataset. Replace with text-image paired dataset.\n",
        "dataset = datasets.CIFAR10(root='./data', train=True, download=True, transform=transform)\n",
        "dataloader = DataLoader(dataset, batch_size=batch_size, shuffle=True)"
      ],
      "metadata": {
        "colab": {
          "base_uri": "https://localhost:8080/"
        },
        "id": "8MvxjapaKHR6",
        "outputId": "5ebdbda5-a68e-4bf1-b389-091c0dbff681"
      },
      "execution_count": 52,
      "outputs": [
        {
          "output_type": "stream",
          "name": "stdout",
          "text": [
            "Files already downloaded and verified\n"
          ]
        }
      ]
    },
    {
      "cell_type": "code",
      "source": [
        "def train(generator, discriminator, text_encoder, num_epochs, dataloader):\n",
        "    for epoch in range(num_epochs):\n",
        "        for i, (images, _) in enumerate(dataloader):\n",
        "            batch_size = images.size(0)\n",
        "            real_images = Variable(images)\n",
        "\n",
        "            # Sample random text description\n",
        "            sample_texts = [\"A colorful image\" for _ in range(batch_size)]  # Replace with actual text generation\n",
        "            text_embeddings = text_encoder(sample_texts)\n",
        "\n",
        "            # Labels for real and fake images\n",
        "            real_labels = torch.ones(batch_size, 1)\n",
        "            fake_labels = torch.zeros(batch_size, 1)\n",
        "\n",
        "            # Train Discriminator\n",
        "            optimizer_D.zero_grad()\n",
        "\n",
        "            # Discriminator loss for real images\n",
        "            outputs_real = discriminator(real_images, text_embeddings)\n",
        "            d_loss_real = criterion(outputs_real, real_labels)\n",
        "\n",
        "            # Discriminator loss for fake images\n",
        "            noise = torch.randn(batch_size, latent_dim)\n",
        "            fake_images = generator(noise, text_embeddings)\n",
        "            outputs_fake = discriminator(fake_images.detach(), text_embeddings)\n",
        "            d_loss_fake = criterion(outputs_fake, fake_labels)\n",
        "\n",
        "            # Combine real and fake loss for discriminator\n",
        "            d_loss = d_loss_real + d_loss_fake\n",
        "            d_loss.backward(retain_graph=True)  # Retain graph to avoid errors\n",
        "            optimizer_D.step()\n",
        "\n",
        "            # Train Generator\n",
        "            optimizer_G.zero_grad()\n",
        "\n",
        "            # Generator loss (try to fool the discriminator)\n",
        "            outputs_fake = discriminator(fake_images, text_embeddings)\n",
        "            g_loss = criterion(outputs_fake, real_labels)\n",
        "            g_loss.backward()  # Backward pass for generator without retain_graph\n",
        "            optimizer_G.step()\n",
        "\n",
        "            if (i + 1) % 100 == 0:\n",
        "                print(f'Epoch [{epoch+1}/{num_epochs}], Step [{i+1}/{len(dataloader)}], '\n",
        "                      f'D Loss: {d_loss.item():.4f}, G Loss: {g_loss.item():.4f}')\n"
      ],
      "metadata": {
        "id": "Hp8EwxqxKKdA"
      },
      "execution_count": 53,
      "outputs": []
    },
    {
      "cell_type": "code",
      "source": [
        "train(generator, discriminator, text_encoder, num_epochs, dataloader)"
      ],
      "metadata": {
        "colab": {
          "base_uri": "https://localhost:8080/"
        },
        "id": "Ob_aH1QXKRGS",
        "outputId": "9c67ebc8-0a6e-49bb-f320-ade15a64b507"
      },
      "execution_count": 54,
      "outputs": [
        {
          "output_type": "stream",
          "name": "stdout",
          "text": [
            "Epoch [1/1], Step [100/1563], D Loss: 0.0536, G Loss: 4.4941\n",
            "Epoch [1/1], Step [200/1563], D Loss: 0.1759, G Loss: 3.0798\n",
            "Epoch [1/1], Step [300/1563], D Loss: 0.3246, G Loss: 1.9281\n",
            "Epoch [1/1], Step [400/1563], D Loss: 0.4188, G Loss: 2.8378\n",
            "Epoch [1/1], Step [500/1563], D Loss: 0.6666, G Loss: 5.0720\n",
            "Epoch [1/1], Step [600/1563], D Loss: 0.4388, G Loss: 2.9607\n",
            "Epoch [1/1], Step [700/1563], D Loss: 0.2316, G Loss: 3.2334\n",
            "Epoch [1/1], Step [800/1563], D Loss: 0.1986, G Loss: 2.6109\n",
            "Epoch [1/1], Step [900/1563], D Loss: 0.2812, G Loss: 3.2426\n",
            "Epoch [1/1], Step [1000/1563], D Loss: 0.2433, G Loss: 2.6193\n",
            "Epoch [1/1], Step [1100/1563], D Loss: 0.1857, G Loss: 3.5141\n",
            "Epoch [1/1], Step [1200/1563], D Loss: 0.2709, G Loss: 2.5554\n",
            "Epoch [1/1], Step [1300/1563], D Loss: 0.0924, G Loss: 4.1143\n",
            "Epoch [1/1], Step [1400/1563], D Loss: 0.2935, G Loss: 2.4230\n",
            "Epoch [1/1], Step [1500/1563], D Loss: 0.4032, G Loss: 3.1465\n"
          ]
        }
      ]
    },
    {
      "cell_type": "code",
      "source": [
        "def generate_image(generator, text_encoder, text_description):\n",
        "    generator.eval()\n",
        "    text_embedding = text_encoder([text_description])\n",
        "    noise = torch.randn(1, latent_dim)\n",
        "    with torch.no_grad():\n",
        "        generated_image = generator(noise, text_embedding).cpu()\n",
        "    generated_image = generated_image * 0.5 + 0.5  # Denormalize\n",
        "    np_image = np.transpose(generated_image.squeeze(0).numpy(), (1, 2, 0))\n",
        "    plt.imshow(np_image)\n",
        "    plt.title(f\"Generated Image: {text_description}\")\n",
        "    plt.axis('off')\n",
        "    plt.show()"
      ],
      "metadata": {
        "id": "gZMpLWoHKTTV"
      },
      "execution_count": 57,
      "outputs": []
    },
    {
      "cell_type": "code",
      "source": [
        "generate_image(generator, text_encoder, \"colourful image\")"
      ],
      "metadata": {
        "colab": {
          "base_uri": "https://localhost:8080/",
          "height": 428
        },
        "id": "FUR_WdFei2iC",
        "outputId": "5e4f7334-69da-4a1d-dd27-300f3e0a03b5"
      },
      "execution_count": 62,
      "outputs": [
        {
          "output_type": "display_data",
          "data": {
            "text/plain": [
              "<Figure size 640x480 with 1 Axes>"
            ],
            "image/png": "[encoded data removed]"
          },
          "metadata": {}
        }
      ]
    },
    {
      "cell_type": "code",
      "source": [],
      "metadata": {
        "id": "9dekBHl2i7et"
      },
      "execution_count": null,
      "outputs": []
    }
  ]
}